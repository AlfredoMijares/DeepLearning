{
 "cells": [
  {
   "cell_type": "markdown",
   "id": "8b65447b",
   "metadata": {},
   "source": [
    "# Clasificación binaria simple\n",
    "# Alfredo Mijares Colmenares\n",
    "# CE 74051\n",
    "# Homework II"
   ]
  },
  {
   "cell_type": "code",
   "execution_count": 76,
   "id": "1e27d478",
   "metadata": {},
   "outputs": [
    {
     "name": "stderr",
     "output_type": "stream",
     "text": [
      "\u001b[32m\u001b[1m   Resolving\u001b[22m\u001b[39m package versions...\n",
      "\u001b[32m\u001b[1m  No Changes\u001b[22m\u001b[39m to `C:\\Users\\ALFREDO\\.julia\\environments\\v1.7\\Project.toml`\n",
      "\u001b[32m\u001b[1m  No Changes\u001b[22m\u001b[39m to `C:\\Users\\ALFREDO\\.julia\\environments\\v1.7\\Manifest.toml`\n",
      "\u001b[32m\u001b[1m   Resolving\u001b[22m\u001b[39m package versions...\n",
      "\u001b[32m\u001b[1m  No Changes\u001b[22m\u001b[39m to `C:\\Users\\ALFREDO\\.julia\\environments\\v1.7\\Project.toml`\n",
      "\u001b[32m\u001b[1m  No Changes\u001b[22m\u001b[39m to `C:\\Users\\ALFREDO\\.julia\\environments\\v1.7\\Manifest.toml`\n",
      "\u001b[32m\u001b[1m   Resolving\u001b[22m\u001b[39m package versions...\n",
      "\u001b[32m\u001b[1m  No Changes\u001b[22m\u001b[39m to `C:\\Users\\ALFREDO\\.julia\\environments\\v1.7\\Project.toml`\n",
      "\u001b[32m\u001b[1m  No Changes\u001b[22m\u001b[39m to `C:\\Users\\ALFREDO\\.julia\\environments\\v1.7\\Manifest.toml`\n",
      "\u001b[32m\u001b[1m   Resolving\u001b[22m\u001b[39m package versions...\n",
      "\u001b[32m\u001b[1m  No Changes\u001b[22m\u001b[39m to `C:\\Users\\ALFREDO\\.julia\\environments\\v1.7\\Project.toml`\n",
      "\u001b[32m\u001b[1m  No Changes\u001b[22m\u001b[39m to `C:\\Users\\ALFREDO\\.julia\\environments\\v1.7\\Manifest.toml`\n",
      "\u001b[32m\u001b[1m   Resolving\u001b[22m\u001b[39m package versions...\n",
      "\u001b[32m\u001b[1m  No Changes\u001b[22m\u001b[39m to `C:\\Users\\ALFREDO\\.julia\\environments\\v1.7\\Project.toml`\n",
      "\u001b[32m\u001b[1m  No Changes\u001b[22m\u001b[39m to `C:\\Users\\ALFREDO\\.julia\\environments\\v1.7\\Manifest.toml`\n",
      "\u001b[32m\u001b[1m   Resolving\u001b[22m\u001b[39m package versions...\n",
      "\u001b[32m\u001b[1m  No Changes\u001b[22m\u001b[39m to `C:\\Users\\ALFREDO\\.julia\\environments\\v1.7\\Project.toml`\n",
      "\u001b[32m\u001b[1m  No Changes\u001b[22m\u001b[39m to `C:\\Users\\ALFREDO\\.julia\\environments\\v1.7\\Manifest.toml`\n",
      "\u001b[32m\u001b[1m   Resolving\u001b[22m\u001b[39m package versions...\n",
      "\u001b[32m\u001b[1m  No Changes\u001b[22m\u001b[39m to `C:\\Users\\ALFREDO\\.julia\\environments\\v1.7\\Project.toml`\n",
      "\u001b[32m\u001b[1m  No Changes\u001b[22m\u001b[39m to `C:\\Users\\ALFREDO\\.julia\\environments\\v1.7\\Manifest.toml`\n",
      "\u001b[32m\u001b[1m   Resolving\u001b[22m\u001b[39m package versions...\n",
      "\u001b[32m\u001b[1m  No Changes\u001b[22m\u001b[39m to `C:\\Users\\ALFREDO\\.julia\\environments\\v1.7\\Project.toml`\n",
      "\u001b[32m\u001b[1m  No Changes\u001b[22m\u001b[39m to `C:\\Users\\ALFREDO\\.julia\\environments\\v1.7\\Manifest.toml`\n",
      "\u001b[32m\u001b[1m   Resolving\u001b[22m\u001b[39m package versions...\n",
      "\u001b[32m\u001b[1m  No Changes\u001b[22m\u001b[39m to `C:\\Users\\ALFREDO\\.julia\\environments\\v1.7\\Project.toml`\n",
      "\u001b[32m\u001b[1m  No Changes\u001b[22m\u001b[39m to `C:\\Users\\ALFREDO\\.julia\\environments\\v1.7\\Manifest.toml`\n",
      "\u001b[32m\u001b[1m   Resolving\u001b[22m\u001b[39m package versions...\n",
      "\u001b[32m\u001b[1m  No Changes\u001b[22m\u001b[39m to `C:\\Users\\ALFREDO\\.julia\\environments\\v1.7\\Project.toml`\n",
      "\u001b[32m\u001b[1m  No Changes\u001b[22m\u001b[39m to `C:\\Users\\ALFREDO\\.julia\\environments\\v1.7\\Manifest.toml`\n",
      "\u001b[32m\u001b[1m   Resolving\u001b[22m\u001b[39m package versions...\n",
      "\u001b[32m\u001b[1m  No Changes\u001b[22m\u001b[39m to `C:\\Users\\ALFREDO\\.julia\\environments\\v1.7\\Project.toml`\n",
      "\u001b[32m\u001b[1m  No Changes\u001b[22m\u001b[39m to `C:\\Users\\ALFREDO\\.julia\\environments\\v1.7\\Manifest.toml`\n",
      "\u001b[32m\u001b[1m   Resolving\u001b[22m\u001b[39m package versions...\n",
      "\u001b[32m\u001b[1m  No Changes\u001b[22m\u001b[39m to `C:\\Users\\ALFREDO\\.julia\\environments\\v1.7\\Project.toml`\n",
      "\u001b[32m\u001b[1m  No Changes\u001b[22m\u001b[39m to `C:\\Users\\ALFREDO\\.julia\\environments\\v1.7\\Manifest.toml`\n",
      "\u001b[32m\u001b[1m   Resolving\u001b[22m\u001b[39m package versions...\n",
      "\u001b[32m\u001b[1m  No Changes\u001b[22m\u001b[39m to `C:\\Users\\ALFREDO\\.julia\\environments\\v1.7\\Project.toml`\n",
      "\u001b[32m\u001b[1m  No Changes\u001b[22m\u001b[39m to `C:\\Users\\ALFREDO\\.julia\\environments\\v1.7\\Manifest.toml`\n"
     ]
    }
   ],
   "source": [
    "# Import Packages\n",
    "using Pkg  # Package to install new packages\n",
    "\n",
    "# Install packages \n",
    "Pkg.add(\"StatsPlots\")\n",
    "Pkg.add(\"MLBase\")\n",
    "Pkg.add(\"StatsBase\")\n",
    "Pkg.add(\"MLBase\")\n",
    "Pkg.add(\"ClassImbalance\")\n",
    "Pkg.add(\"ROCAnalysis\")\n",
    "Pkg.add(\"ExcelFiles\")\n",
    "Pkg.add(\"LIBSVM\")\n",
    "Pkg.add(\"Printf\")\n",
    "Pkg.add(\"DataFrames\")\n",
    "Pkg.add(\"RDatasets\")\n",
    "Pkg.add(\"Distances\")\n",
    "Pkg.add(\"DecisionTree\")\n",
    "\n"
   ]
  },
  {
   "cell_type": "code",
   "execution_count": 77,
   "id": "e3c05cf5",
   "metadata": {},
   "outputs": [],
   "source": [
    "using DecisionTree"
   ]
  },
  {
   "cell_type": "code",
   "execution_count": 78,
   "id": "40eda13b",
   "metadata": {},
   "outputs": [],
   "source": [
    "using Pkg\n",
    "using DataFrames\n",
    "using CSV\n",
    "using Plots\n",
    "using GLM\n",
    "using StatsBase\n",
    "using Lathe\n",
    "using MLBase\n",
    "using ClassImbalance\n",
    "using ROCAnalysis\n",
    "using Lathe.preprocess: TrainTestSplit\n",
    "using LIBSVM\n",
    "using Printf"
   ]
  },
  {
   "cell_type": "code",
   "execution_count": 79,
   "id": "f45edf6b",
   "metadata": {},
   "outputs": [],
   "source": [
    "data = CSV.read(\"sonar.csv\", DataFrame, header = false);"
   ]
  },
  {
   "cell_type": "code",
   "execution_count": 80,
   "id": "867fe205",
   "metadata": {},
   "outputs": [
    {
     "data": {
      "text/html": [
       "<table class=\"data-frame\"><thead><tr><th></th><th>Column1</th><th>Column2</th><th>Column3</th><th>Column4</th><th>Column5</th><th>Column6</th><th>Column7</th><th>Column8</th><th>Column9</th></tr><tr><th></th><th>Float64</th><th>Float64</th><th>Float64</th><th>Float64</th><th>Float64</th><th>Float64</th><th>Float64</th><th>Float64</th><th>Float64</th></tr></thead><tbody><p>208 rows × 61 columns (omitted printing of 52 columns)</p><tr><th>1</th><td>0.02</td><td>0.0371</td><td>0.0428</td><td>0.0207</td><td>0.0954</td><td>0.0986</td><td>0.1539</td><td>0.1601</td><td>0.3109</td></tr><tr><th>2</th><td>0.0453</td><td>0.0523</td><td>0.0843</td><td>0.0689</td><td>0.1183</td><td>0.2583</td><td>0.2156</td><td>0.3481</td><td>0.3337</td></tr><tr><th>3</th><td>0.0262</td><td>0.0582</td><td>0.1099</td><td>0.1083</td><td>0.0974</td><td>0.228</td><td>0.2431</td><td>0.3771</td><td>0.5598</td></tr><tr><th>4</th><td>0.01</td><td>0.0171</td><td>0.0623</td><td>0.0205</td><td>0.0205</td><td>0.0368</td><td>0.1098</td><td>0.1276</td><td>0.0598</td></tr><tr><th>5</th><td>0.0762</td><td>0.0666</td><td>0.0481</td><td>0.0394</td><td>0.059</td><td>0.0649</td><td>0.1209</td><td>0.2467</td><td>0.3564</td></tr><tr><th>6</th><td>0.0286</td><td>0.0453</td><td>0.0277</td><td>0.0174</td><td>0.0384</td><td>0.099</td><td>0.1201</td><td>0.1833</td><td>0.2105</td></tr><tr><th>7</th><td>0.0317</td><td>0.0956</td><td>0.1321</td><td>0.1408</td><td>0.1674</td><td>0.171</td><td>0.0731</td><td>0.1401</td><td>0.2083</td></tr><tr><th>8</th><td>0.0519</td><td>0.0548</td><td>0.0842</td><td>0.0319</td><td>0.1158</td><td>0.0922</td><td>0.1027</td><td>0.0613</td><td>0.1465</td></tr><tr><th>9</th><td>0.0223</td><td>0.0375</td><td>0.0484</td><td>0.0475</td><td>0.0647</td><td>0.0591</td><td>0.0753</td><td>0.0098</td><td>0.0684</td></tr><tr><th>10</th><td>0.0164</td><td>0.0173</td><td>0.0347</td><td>0.007</td><td>0.0187</td><td>0.0671</td><td>0.1056</td><td>0.0697</td><td>0.0962</td></tr><tr><th>11</th><td>0.0039</td><td>0.0063</td><td>0.0152</td><td>0.0336</td><td>0.031</td><td>0.0284</td><td>0.0396</td><td>0.0272</td><td>0.0323</td></tr><tr><th>12</th><td>0.0123</td><td>0.0309</td><td>0.0169</td><td>0.0313</td><td>0.0358</td><td>0.0102</td><td>0.0182</td><td>0.0579</td><td>0.1122</td></tr><tr><th>13</th><td>0.0079</td><td>0.0086</td><td>0.0055</td><td>0.025</td><td>0.0344</td><td>0.0546</td><td>0.0528</td><td>0.0958</td><td>0.1009</td></tr><tr><th>14</th><td>0.009</td><td>0.0062</td><td>0.0253</td><td>0.0489</td><td>0.1197</td><td>0.1589</td><td>0.1392</td><td>0.0987</td><td>0.0955</td></tr><tr><th>15</th><td>0.0124</td><td>0.0433</td><td>0.0604</td><td>0.0449</td><td>0.0597</td><td>0.0355</td><td>0.0531</td><td>0.0343</td><td>0.1052</td></tr><tr><th>16</th><td>0.0298</td><td>0.0615</td><td>0.065</td><td>0.0921</td><td>0.1615</td><td>0.2294</td><td>0.2176</td><td>0.2033</td><td>0.1459</td></tr><tr><th>17</th><td>0.0352</td><td>0.0116</td><td>0.0191</td><td>0.0469</td><td>0.0737</td><td>0.1185</td><td>0.1683</td><td>0.1541</td><td>0.1466</td></tr><tr><th>18</th><td>0.0192</td><td>0.0607</td><td>0.0378</td><td>0.0774</td><td>0.1388</td><td>0.0809</td><td>0.0568</td><td>0.0219</td><td>0.1037</td></tr><tr><th>19</th><td>0.027</td><td>0.0092</td><td>0.0145</td><td>0.0278</td><td>0.0412</td><td>0.0757</td><td>0.1026</td><td>0.1138</td><td>0.0794</td></tr><tr><th>20</th><td>0.0126</td><td>0.0149</td><td>0.0641</td><td>0.1732</td><td>0.2565</td><td>0.2559</td><td>0.2947</td><td>0.411</td><td>0.4983</td></tr><tr><th>21</th><td>0.0473</td><td>0.0509</td><td>0.0819</td><td>0.1252</td><td>0.1783</td><td>0.307</td><td>0.3008</td><td>0.2362</td><td>0.383</td></tr><tr><th>22</th><td>0.0664</td><td>0.0575</td><td>0.0842</td><td>0.0372</td><td>0.0458</td><td>0.0771</td><td>0.0771</td><td>0.113</td><td>0.2353</td></tr><tr><th>23</th><td>0.0099</td><td>0.0484</td><td>0.0299</td><td>0.0297</td><td>0.0652</td><td>0.1077</td><td>0.2363</td><td>0.2385</td><td>0.0075</td></tr><tr><th>24</th><td>0.0115</td><td>0.015</td><td>0.0136</td><td>0.0076</td><td>0.0211</td><td>0.1058</td><td>0.1023</td><td>0.044</td><td>0.0931</td></tr><tr><th>25</th><td>0.0293</td><td>0.0644</td><td>0.039</td><td>0.0173</td><td>0.0476</td><td>0.0816</td><td>0.0993</td><td>0.0315</td><td>0.0736</td></tr><tr><th>26</th><td>0.0201</td><td>0.0026</td><td>0.0138</td><td>0.0062</td><td>0.0133</td><td>0.0151</td><td>0.0541</td><td>0.021</td><td>0.0505</td></tr><tr><th>27</th><td>0.0151</td><td>0.032</td><td>0.0599</td><td>0.105</td><td>0.1163</td><td>0.1734</td><td>0.1679</td><td>0.1119</td><td>0.0889</td></tr><tr><th>28</th><td>0.0177</td><td>0.03</td><td>0.0288</td><td>0.0394</td><td>0.063</td><td>0.0526</td><td>0.0688</td><td>0.0633</td><td>0.0624</td></tr><tr><th>29</th><td>0.01</td><td>0.0275</td><td>0.019</td><td>0.0371</td><td>0.0416</td><td>0.0201</td><td>0.0314</td><td>0.0651</td><td>0.1896</td></tr><tr><th>30</th><td>0.0189</td><td>0.0308</td><td>0.0197</td><td>0.0622</td><td>0.008</td><td>0.0789</td><td>0.144</td><td>0.1451</td><td>0.1789</td></tr><tr><th>&vellip;</th><td>&vellip;</td><td>&vellip;</td><td>&vellip;</td><td>&vellip;</td><td>&vellip;</td><td>&vellip;</td><td>&vellip;</td><td>&vellip;</td><td>&vellip;</td></tr></tbody></table>"
      ],
      "text/latex": [
       "\\begin{tabular}{r|cccccccccc}\n",
       "\t& Column1 & Column2 & Column3 & Column4 & Column5 & Column6 & Column7 & Column8 & Column9 & \\\\\n",
       "\t\\hline\n",
       "\t& Float64 & Float64 & Float64 & Float64 & Float64 & Float64 & Float64 & Float64 & Float64 & \\\\\n",
       "\t\\hline\n",
       "\t1 & 0.02 & 0.0371 & 0.0428 & 0.0207 & 0.0954 & 0.0986 & 0.1539 & 0.1601 & 0.3109 & $\\dots$ \\\\\n",
       "\t2 & 0.0453 & 0.0523 & 0.0843 & 0.0689 & 0.1183 & 0.2583 & 0.2156 & 0.3481 & 0.3337 & $\\dots$ \\\\\n",
       "\t3 & 0.0262 & 0.0582 & 0.1099 & 0.1083 & 0.0974 & 0.228 & 0.2431 & 0.3771 & 0.5598 & $\\dots$ \\\\\n",
       "\t4 & 0.01 & 0.0171 & 0.0623 & 0.0205 & 0.0205 & 0.0368 & 0.1098 & 0.1276 & 0.0598 & $\\dots$ \\\\\n",
       "\t5 & 0.0762 & 0.0666 & 0.0481 & 0.0394 & 0.059 & 0.0649 & 0.1209 & 0.2467 & 0.3564 & $\\dots$ \\\\\n",
       "\t6 & 0.0286 & 0.0453 & 0.0277 & 0.0174 & 0.0384 & 0.099 & 0.1201 & 0.1833 & 0.2105 & $\\dots$ \\\\\n",
       "\t7 & 0.0317 & 0.0956 & 0.1321 & 0.1408 & 0.1674 & 0.171 & 0.0731 & 0.1401 & 0.2083 & $\\dots$ \\\\\n",
       "\t8 & 0.0519 & 0.0548 & 0.0842 & 0.0319 & 0.1158 & 0.0922 & 0.1027 & 0.0613 & 0.1465 & $\\dots$ \\\\\n",
       "\t9 & 0.0223 & 0.0375 & 0.0484 & 0.0475 & 0.0647 & 0.0591 & 0.0753 & 0.0098 & 0.0684 & $\\dots$ \\\\\n",
       "\t10 & 0.0164 & 0.0173 & 0.0347 & 0.007 & 0.0187 & 0.0671 & 0.1056 & 0.0697 & 0.0962 & $\\dots$ \\\\\n",
       "\t11 & 0.0039 & 0.0063 & 0.0152 & 0.0336 & 0.031 & 0.0284 & 0.0396 & 0.0272 & 0.0323 & $\\dots$ \\\\\n",
       "\t12 & 0.0123 & 0.0309 & 0.0169 & 0.0313 & 0.0358 & 0.0102 & 0.0182 & 0.0579 & 0.1122 & $\\dots$ \\\\\n",
       "\t13 & 0.0079 & 0.0086 & 0.0055 & 0.025 & 0.0344 & 0.0546 & 0.0528 & 0.0958 & 0.1009 & $\\dots$ \\\\\n",
       "\t14 & 0.009 & 0.0062 & 0.0253 & 0.0489 & 0.1197 & 0.1589 & 0.1392 & 0.0987 & 0.0955 & $\\dots$ \\\\\n",
       "\t15 & 0.0124 & 0.0433 & 0.0604 & 0.0449 & 0.0597 & 0.0355 & 0.0531 & 0.0343 & 0.1052 & $\\dots$ \\\\\n",
       "\t16 & 0.0298 & 0.0615 & 0.065 & 0.0921 & 0.1615 & 0.2294 & 0.2176 & 0.2033 & 0.1459 & $\\dots$ \\\\\n",
       "\t17 & 0.0352 & 0.0116 & 0.0191 & 0.0469 & 0.0737 & 0.1185 & 0.1683 & 0.1541 & 0.1466 & $\\dots$ \\\\\n",
       "\t18 & 0.0192 & 0.0607 & 0.0378 & 0.0774 & 0.1388 & 0.0809 & 0.0568 & 0.0219 & 0.1037 & $\\dots$ \\\\\n",
       "\t19 & 0.027 & 0.0092 & 0.0145 & 0.0278 & 0.0412 & 0.0757 & 0.1026 & 0.1138 & 0.0794 & $\\dots$ \\\\\n",
       "\t20 & 0.0126 & 0.0149 & 0.0641 & 0.1732 & 0.2565 & 0.2559 & 0.2947 & 0.411 & 0.4983 & $\\dots$ \\\\\n",
       "\t21 & 0.0473 & 0.0509 & 0.0819 & 0.1252 & 0.1783 & 0.307 & 0.3008 & 0.2362 & 0.383 & $\\dots$ \\\\\n",
       "\t22 & 0.0664 & 0.0575 & 0.0842 & 0.0372 & 0.0458 & 0.0771 & 0.0771 & 0.113 & 0.2353 & $\\dots$ \\\\\n",
       "\t23 & 0.0099 & 0.0484 & 0.0299 & 0.0297 & 0.0652 & 0.1077 & 0.2363 & 0.2385 & 0.0075 & $\\dots$ \\\\\n",
       "\t24 & 0.0115 & 0.015 & 0.0136 & 0.0076 & 0.0211 & 0.1058 & 0.1023 & 0.044 & 0.0931 & $\\dots$ \\\\\n",
       "\t25 & 0.0293 & 0.0644 & 0.039 & 0.0173 & 0.0476 & 0.0816 & 0.0993 & 0.0315 & 0.0736 & $\\dots$ \\\\\n",
       "\t26 & 0.0201 & 0.0026 & 0.0138 & 0.0062 & 0.0133 & 0.0151 & 0.0541 & 0.021 & 0.0505 & $\\dots$ \\\\\n",
       "\t27 & 0.0151 & 0.032 & 0.0599 & 0.105 & 0.1163 & 0.1734 & 0.1679 & 0.1119 & 0.0889 & $\\dots$ \\\\\n",
       "\t28 & 0.0177 & 0.03 & 0.0288 & 0.0394 & 0.063 & 0.0526 & 0.0688 & 0.0633 & 0.0624 & $\\dots$ \\\\\n",
       "\t29 & 0.01 & 0.0275 & 0.019 & 0.0371 & 0.0416 & 0.0201 & 0.0314 & 0.0651 & 0.1896 & $\\dots$ \\\\\n",
       "\t30 & 0.0189 & 0.0308 & 0.0197 & 0.0622 & 0.008 & 0.0789 & 0.144 & 0.1451 & 0.1789 & $\\dots$ \\\\\n",
       "\t$\\dots$ & $\\dots$ & $\\dots$ & $\\dots$ & $\\dots$ & $\\dots$ & $\\dots$ & $\\dots$ & $\\dots$ & $\\dots$ &  \\\\\n",
       "\\end{tabular}\n"
      ],
      "text/plain": [
       "208×61 typename(DataFrame). Omitted printing of 54 columns\n",
       "│ Row │ Column1 │ Column2 │ Column3 │ Column4 │ Column5 │ Column6 │ Column7 │\n",
       "│     │ \u001b[90mFloat64\u001b[39m │ \u001b[90mFloat64\u001b[39m │ \u001b[90mFloat64\u001b[39m │ \u001b[90mFloat64\u001b[39m │ \u001b[90mFloat64\u001b[39m │ \u001b[90mFloat64\u001b[39m │ \u001b[90mFloat64\u001b[39m │\n",
       "├─────┼─────────┼─────────┼─────────┼─────────┼─────────┼─────────┼─────────┤\n",
       "│ 1   │ 0.02    │ 0.0371  │ 0.0428  │ 0.0207  │ 0.0954  │ 0.0986  │ 0.1539  │\n",
       "│ 2   │ 0.0453  │ 0.0523  │ 0.0843  │ 0.0689  │ 0.1183  │ 0.2583  │ 0.2156  │\n",
       "│ 3   │ 0.0262  │ 0.0582  │ 0.1099  │ 0.1083  │ 0.0974  │ 0.228   │ 0.2431  │\n",
       "│ 4   │ 0.01    │ 0.0171  │ 0.0623  │ 0.0205  │ 0.0205  │ 0.0368  │ 0.1098  │\n",
       "│ 5   │ 0.0762  │ 0.0666  │ 0.0481  │ 0.0394  │ 0.059   │ 0.0649  │ 0.1209  │\n",
       "│ 6   │ 0.0286  │ 0.0453  │ 0.0277  │ 0.0174  │ 0.0384  │ 0.099   │ 0.1201  │\n",
       "│ 7   │ 0.0317  │ 0.0956  │ 0.1321  │ 0.1408  │ 0.1674  │ 0.171   │ 0.0731  │\n",
       "│ 8   │ 0.0519  │ 0.0548  │ 0.0842  │ 0.0319  │ 0.1158  │ 0.0922  │ 0.1027  │\n",
       "│ 9   │ 0.0223  │ 0.0375  │ 0.0484  │ 0.0475  │ 0.0647  │ 0.0591  │ 0.0753  │\n",
       "│ 10  │ 0.0164  │ 0.0173  │ 0.0347  │ 0.007   │ 0.0187  │ 0.0671  │ 0.1056  │\n",
       "⋮\n",
       "│ 198 │ 0.0366  │ 0.0421  │ 0.0504  │ 0.025   │ 0.0596  │ 0.0252  │ 0.0958  │\n",
       "│ 199 │ 0.0238  │ 0.0318  │ 0.0422  │ 0.0399  │ 0.0788  │ 0.0766  │ 0.0881  │\n",
       "│ 200 │ 0.0116  │ 0.0744  │ 0.0367  │ 0.0225  │ 0.0076  │ 0.0545  │ 0.111   │\n",
       "│ 201 │ 0.0131  │ 0.0387  │ 0.0329  │ 0.0078  │ 0.0721  │ 0.1341  │ 0.1626  │\n",
       "│ 202 │ 0.0335  │ 0.0258  │ 0.0398  │ 0.057   │ 0.0529  │ 0.1091  │ 0.1709  │\n",
       "│ 203 │ 0.0272  │ 0.0378  │ 0.0488  │ 0.0848  │ 0.1127  │ 0.1103  │ 0.1349  │\n",
       "│ 204 │ 0.0187  │ 0.0346  │ 0.0168  │ 0.0177  │ 0.0393  │ 0.163   │ 0.2028  │\n",
       "│ 205 │ 0.0323  │ 0.0101  │ 0.0298  │ 0.0564  │ 0.076   │ 0.0958  │ 0.099   │\n",
       "│ 206 │ 0.0522  │ 0.0437  │ 0.018   │ 0.0292  │ 0.0351  │ 0.1171  │ 0.1257  │\n",
       "│ 207 │ 0.0303  │ 0.0353  │ 0.049   │ 0.0608  │ 0.0167  │ 0.1354  │ 0.1465  │\n",
       "│ 208 │ 0.026   │ 0.0363  │ 0.0136  │ 0.0272  │ 0.0214  │ 0.0338  │ 0.0655  │"
      ]
     },
     "execution_count": 80,
     "metadata": {},
     "output_type": "execute_result"
    }
   ],
   "source": [
    "data"
   ]
  },
  {
   "cell_type": "code",
   "execution_count": 81,
   "id": "3781e507",
   "metadata": {},
   "outputs": [],
   "source": [
    "X = data[:, 1:60];\n",
    "y = data[:, 61];"
   ]
  },
  {
   "cell_type": "code",
   "execution_count": 82,
   "id": "eb9e5007",
   "metadata": {},
   "outputs": [],
   "source": [
    "y = ifelse.(data[:, 61] .== \"R\", 1, 0); #Encoding de la variable"
   ]
  },
  {
   "cell_type": "code",
   "execution_count": 83,
   "id": "dee4e20c",
   "metadata": {},
   "outputs": [],
   "source": [
    "x = Matrix(X);"
   ]
  },
  {
   "cell_type": "code",
   "execution_count": 84,
   "id": "f6f1c9f2",
   "metadata": {},
   "outputs": [],
   "source": [
    "X2, y2 = smote(x, y, k = 5, pct_under = 150, pct_over = 200);"
   ]
  },
  {
   "cell_type": "code",
   "execution_count": 85,
   "id": "462b1599",
   "metadata": {},
   "outputs": [
    {
     "data": {
      "text/plain": [
       "Dict{Int64, Int64} with 2 entries:\n",
       "  0 => 291\n",
       "  1 => 291"
      ]
     },
     "execution_count": 85,
     "metadata": {},
     "output_type": "execute_result"
    }
   ],
   "source": [
    "countmap(y2)"
   ]
  },
  {
   "cell_type": "code",
   "execution_count": 86,
   "id": "f49a270c",
   "metadata": {},
   "outputs": [],
   "source": [
    "data2 = [X2 y2];\n",
    "data2 = DataFrame(data2);"
   ]
  },
  {
   "cell_type": "code",
   "execution_count": 87,
   "id": "b5df3067",
   "metadata": {},
   "outputs": [],
   "source": [
    "train, test = TrainTestSplit(data2, 0.7) ;"
   ]
  },
  {
   "cell_type": "code",
   "execution_count": 88,
   "id": "44304848",
   "metadata": {
    "scrolled": true
   },
   "outputs": [
    {
     "name": "stdout",
     "output_type": "stream",
     "text": [
      "0.5\n",
      "0.4574468085106383\n",
      "0.6785714285714286\n"
     ]
    }
   ],
   "source": [
    "println(sum(data2[:, 61] .== 1)/582)\n",
    "println(sum(train[:,61] .== 1)/470)\n",
    "println(sum(test[:,61] .== 1)/112)"
   ]
  },
  {
   "cell_type": "markdown",
   "id": "e0aebd9e",
   "metadata": {},
   "source": [
    "## Ajuste de modelos Adjust the following algorithms to the data using the default parameters: Linear Regression,Logistic Regression, SVM, KNN, Decision trees."
   ]
  },
  {
   "cell_type": "markdown",
   "id": "f77a920e",
   "metadata": {},
   "source": [
    "### Regresión logística"
   ]
  },
  {
   "cell_type": "code",
   "execution_count": 89,
   "id": "bb8beee8",
   "metadata": {},
   "outputs": [
    {
     "data": {
      "text/plain": [
       "StatsModels.TableRegressionModel{GeneralizedLinearModel{GLM.GlmResp{Vector{Float64}, Binomial{Float64}, LogitLink}, GLM.DensePredChol{Float64, LinearAlgebra.Cholesky{Float64, Matrix{Float64}}}}, Matrix{Float64}}\n",
       "\n",
       "x61 ~ 1 + x1 + x2 + x3 + x4 + x5 + x6 + x7 + x8 + x9 + x10 + x11 + x12 + x13 + x14 + x15 + x16 + x17 + x18 + x19 + x20 + x21 + x22 + x23 + x24 + x25 + x26 + x27 + x28 + x29 + x30 + x31 + x32 + x33 + x34 + x35 + x36 + x37 + x38 + x39 + x40 + x41 + x42 + x43 + x44 + x45 + x46 + x47 + x48 + x49 + x50 + x51 + x52 + x53 + x54 + x55 + x56 + x57 + x58 + x59 + x60\n",
       "\n",
       "Coefficients:\n",
       "─────────────────────────────────────────────────────────────────────────────────────────\n",
       "                  Coef.      Std. Error      z  Pr(>|z|)        Lower 95%       Upper 95%\n",
       "─────────────────────────────────────────────────────────────────────────────────────────\n",
       "(Intercept)    567.087    81596.0         0.01    0.9945       -1.59358e5       1.60492e5\n",
       "x1           -1924.84         1.98293e6  -0.00    0.9992       -3.8884e6        3.88455e6\n",
       "x2            -980.136        8.37924e5  -0.00    0.9991       -1.64328e6       1.64132e6\n",
       "x3            1753.67    585068.0         0.00    0.9976       -1.14496e6       1.14847e6\n",
       "x4            -329.619        8.61436e5  -0.00    0.9997       -1.68871e6       1.68805e6\n",
       "x5             485.864        2.5857e5    0.00    0.9985       -5.06301e5  507273.0\n",
       "x6            -354.829        4.00331e5  -0.00    0.9993       -7.84989e5       7.8428e5\n",
       "x7             388.377        2.34487e5   0.00    0.9987       -4.59199e5       4.59975e5\n",
       "x8             801.371   343141.0         0.00    0.9981       -6.71743e5       6.73345e5\n",
       "x9            -870.619        4.83493e5  -0.00    0.9986       -9.485e5         9.46758e5\n",
       "x10            307.548        3.98992e5   0.00    0.9994       -7.81702e5       7.82317e5\n",
       "x11            -58.8674       3.93651e5  -0.00    0.9999       -7.716e5    771482.0\n",
       "x12           -882.144        3.29977e5  -0.00    0.9979       -6.47626e5       6.45861e5\n",
       "x13            768.878        1.59908e5   0.00    0.9962       -3.12645e5  314183.0\n",
       "x14           -365.457        2.06283e5  -0.00    0.9986       -4.04673e5       4.03942e5\n",
       "x15           -293.883        4.88167e5  -0.00    0.9995       -9.57083e5       9.56495e5\n",
       "x16            541.777        8.05401e5   0.00    0.9995       -1.57801e6       1.5791e6\n",
       "x17            160.563        6.46297e5   0.00    0.9998       -1.26656e6       1.26688e6\n",
       "x18           -332.403        2.88959e5  -0.00    0.9991  -566681.0             5.66016e5\n",
       "x19            198.991        1.14768e5   0.00    0.9986       -2.24743e5       2.25141e5\n",
       "x20           -571.978        2.34698e5  -0.00    0.9981       -4.60572e5       4.59428e5\n",
       "x21            517.207        2.60713e5   0.00    0.9984       -5.10471e5       5.11506e5\n",
       "x22           -772.197        3.6708e5   -0.00    0.9983       -7.20235e5  718691.0\n",
       "x23            698.008        6.09934e5   0.00    0.9991       -1.19475e6       1.19615e6\n",
       "x24           -710.358        4.97136e5  -0.00    0.9989       -9.7508e5        9.73659e5\n",
       "x25            339.693        2.39163e5   0.00    0.9989       -4.6841e5        4.6909e5\n",
       "x26             38.349        2.06638e5   0.00    0.9999       -4.04964e5       4.0504e5\n",
       "x27           -306.273        2.15491e5  -0.00    0.9989       -4.22662e5  422049.0\n",
       "x28             11.2372       1.18077e5   0.00    0.9999       -2.31415e5       2.31437e5\n",
       "x29            315.116        1.63672e5   0.00    0.9985       -3.20477e5  321107.0\n",
       "x30           -983.059   228609.0        -0.00    0.9966       -4.49049e5       4.47082e5\n",
       "x31           1220.97         3.56722e5   0.00    0.9973       -6.97941e5       7.00383e5\n",
       "x32           -507.136   283709.0        -0.00    0.9986       -5.56567e5       5.55552e5\n",
       "x33           -247.889    98993.2        -0.00    0.9980  -194271.0             1.93775e5\n",
       "x34            370.658        1.7628e5    0.00    0.9983       -3.45132e5       3.45873e5\n",
       "x35           -105.669        1.9699e5   -0.00    0.9996       -3.86199e5       3.85987e5\n",
       "x36           -108.541        1.65268e5  -0.00    0.9995       -3.24028e5       3.23811e5\n",
       "x37            509.756        1.49086e5   0.00    0.9973       -2.91693e5       2.92712e5\n",
       "x38             19.2447       2.49276e5   0.00    0.9999       -4.88553e5       4.88592e5\n",
       "x39           -458.474        5.32543e5  -0.00    0.9993       -1.04422e6       1.04331e6\n",
       "x40            653.142        4.61727e5   0.00    0.9989       -9.04316e5  905622.0\n",
       "x41           -589.329        5.93114e5  -0.00    0.9992       -1.16307e6       1.16189e6\n",
       "x42            447.318        2.3198e5    0.00    0.9985       -4.54225e5  455120.0\n",
       "x43           -557.535        2.12441e5  -0.00    0.9979       -4.16934e5       4.15819e5\n",
       "x44           -141.771        1.6743e5   -0.00    0.9993       -3.28299e5       3.28015e5\n",
       "x45             97.4782       2.07084e5   0.00    0.9996       -4.05779e5       4.05974e5\n",
       "x46           -387.437        4.39453e5  -0.00    0.9993  -861700.0             8.60925e5\n",
       "x47           -520.734        6.6173e5   -0.00    0.9994       -1.29749e6       1.29645e6\n",
       "x48           -750.22         7.52516e5  -0.00    0.9992       -1.47565e6       1.47415e6\n",
       "x49           -432.812        8.35064e5  -0.00    0.9996       -1.63713e6       1.63626e6\n",
       "x50           7667.54         4.24131e6   0.00    0.9986       -8.30515e6       8.32048e6\n",
       "x51          -2646.67         1.86001e6  -0.00    0.9989       -3.6482e6        3.64291e6\n",
       "x52          -8159.7          2.67518e6  -0.00    0.9976       -5.25141e6       5.23509e6\n",
       "x53           -304.129        3.26506e6  -0.00    0.9999       -6.39971e6       6.3991e6\n",
       "x54          -1608.24         1.81128e6  -0.00    0.9993       -3.55166e6       3.54844e6\n",
       "x55            657.358        1.28185e6   0.00    0.9996       -2.51173e6       2.51305e6\n",
       "x56           6747.82         2.36138e6   0.00    0.9977       -4.62147e6       4.63497e6\n",
       "x57            585.396        1.83552e6   0.00    0.9997       -3.59696e6       3.59813e6\n",
       "x58          -4024.25         5.45381e6  -0.00    0.9994       -1.06933e7       1.06852e7\n",
       "x59           -973.991        5.83476e6  -0.00    0.9999       -1.14369e7       1.14349e7\n",
       "x60            755.549        3.08503e6   0.00    0.9998       -6.04579e6       6.0473e6\n",
       "─────────────────────────────────────────────────────────────────────────────────────────"
      ]
     },
     "execution_count": 89,
     "metadata": {},
     "output_type": "execute_result"
    }
   ],
   "source": [
    "fm = @formula(x61 ~ x1+ \n",
    "x2+ \n",
    "x3+ \n",
    "x4+ \n",
    "x5+ \n",
    "x6+ \n",
    "x7+ \n",
    "x8+ \n",
    "x9+ \n",
    "x10+ \n",
    "x11+ \n",
    "x12+ \n",
    "x13+ \n",
    "x14+ \n",
    "x15+ \n",
    "x16+ \n",
    "x17+ \n",
    "x18+ \n",
    "x19+ \n",
    "x20+ \n",
    "x21+ \n",
    "x22+ \n",
    "x23+ \n",
    "x24+ \n",
    "x25+ \n",
    "x26+ \n",
    "x27+ \n",
    "x28+ \n",
    "x29+ \n",
    "x30+ \n",
    "x31+ \n",
    "x32+ \n",
    "x33+ \n",
    "x34+ \n",
    "x35+ \n",
    "x36+ \n",
    "x37+ \n",
    "x38+ \n",
    "x39+ \n",
    "x40+ \n",
    "x41+ \n",
    "x42+ \n",
    "x43+ \n",
    "x44+ \n",
    "x45+ \n",
    "x46+ \n",
    "x47+ \n",
    "x48+ \n",
    "x49+ \n",
    "x50+ \n",
    "x51+ \n",
    "x52+ \n",
    "x53+ \n",
    "x54+ \n",
    "x55+ \n",
    "x56+ \n",
    "x57+ \n",
    "x58+ \n",
    "x59+ \n",
    "x60)\n",
    "logit = glm(fm, train, Binomial(), LogitLink())\n"
   ]
  },
  {
   "cell_type": "code",
   "execution_count": 90,
   "id": "ca847dfe",
   "metadata": {},
   "outputs": [],
   "source": [
    "# Prediction\n",
    "ypredicted_test = GLM.predict(logit, test);\n",
    "ypredicted_train = GLM.predict(logit, train);\n",
    "\n",
    "prediction_class_train = [if x < 0.5 0 else 1 end for x in ypredicted_train];\n",
    "prediction_class_test = [if x < 0.5 0 else 1 end for x in ypredicted_test];\n"
   ]
  },
  {
   "cell_type": "code",
   "execution_count": 91,
   "id": "2e078b65",
   "metadata": {},
   "outputs": [
    {
     "data": {
      "text/plain": [
       "Dict{Int64, Int64} with 2 entries:\n",
       "  0 => 89\n",
       "  1 => 75"
      ]
     },
     "execution_count": 91,
     "metadata": {},
     "output_type": "execute_result"
    }
   ],
   "source": [
    "countmap(prediction_class_test)"
   ]
  },
  {
   "cell_type": "markdown",
   "id": "5dea99f5",
   "metadata": {},
   "source": [
    "# Train"
   ]
  },
  {
   "cell_type": "code",
   "execution_count": 92,
   "id": "f27603e1",
   "metadata": {},
   "outputs": [],
   "source": [
    "prediccion = [train.x61 prediction_class_train]\n",
    "prediccion = DataFrame(prediccion, [:Real, :Prediccion]);"
   ]
  },
  {
   "cell_type": "code",
   "execution_count": 93,
   "id": "59c0ddb3",
   "metadata": {},
   "outputs": [
    {
     "data": {
      "text/plain": [
       "ROC curve with 3 points, of which 3 on the convex hull"
      ]
     },
     "execution_count": 93,
     "metadata": {},
     "output_type": "execute_result"
    }
   ],
   "source": [
    "confusion_matrix = ROCAnalysis.roc(prediccion.Real, prediccion.Prediccion)"
   ]
  },
  {
   "cell_type": "code",
   "execution_count": 94,
   "id": "e5e5305c",
   "metadata": {},
   "outputs": [
    {
     "name": "stdout",
     "output_type": "stream",
     "text": [
      "Accuracy: 100.00%\n"
     ]
    }
   ],
   "source": [
    "auc = ROCAnalysis.AUC(confusion_matrix)\n",
    "@printf \"Accuracy: %.2f%%\\n\" mean(prediction_class_train .== train[:, 61]) * 100"
   ]
  },
  {
   "cell_type": "markdown",
   "id": "ceffaa77",
   "metadata": {},
   "source": [
    "# Test"
   ]
  },
  {
   "cell_type": "code",
   "execution_count": 95,
   "id": "2871c87d",
   "metadata": {},
   "outputs": [],
   "source": [
    "prediccion = [test.x61 prediction_class_test]\n",
    "prediccion = DataFrame(prediccion, [:Real, :Prediccion]);"
   ]
  },
  {
   "cell_type": "code",
   "execution_count": 96,
   "id": "c4de1965",
   "metadata": {},
   "outputs": [
    {
     "data": {
      "text/plain": [
       "ROC curve with 3 points, of which 3 on the convex hull"
      ]
     },
     "execution_count": 96,
     "metadata": {},
     "output_type": "execute_result"
    }
   ],
   "source": [
    "confusion_matrix = ROCAnalysis.roc(prediccion.Real, prediccion.Prediccion)"
   ]
  },
  {
   "cell_type": "code",
   "execution_count": 97,
   "id": "5d0db248",
   "metadata": {},
   "outputs": [
    {
     "name": "stdout",
     "output_type": "stream",
     "text": [
      "Accuracy: 96.95%\n"
     ]
    }
   ],
   "source": [
    "auc = ROCAnalysis.AUC(confusion_matrix)\n",
    "@printf \"Accuracy: %.2f%%\\n\" mean(prediction_class_test .== test[:, 61]) * 100"
   ]
  },
  {
   "cell_type": "markdown",
   "id": "d7e6507a",
   "metadata": {},
   "source": [
    "### Regresión lineal"
   ]
  },
  {
   "cell_type": "code",
   "execution_count": 98,
   "id": "5a2a0db7",
   "metadata": {},
   "outputs": [],
   "source": [
    "fm = @formula(x61 ~ x1+ \n",
    "x2+ \n",
    "x3+ \n",
    "x4+ \n",
    "x5+ \n",
    "x6+ \n",
    "x7+ \n",
    "x8+ \n",
    "x9+ \n",
    "x10+ \n",
    "x11+ \n",
    "x12+ \n",
    "x13+ \n",
    "x14+ \n",
    "x15+ \n",
    "x16+ \n",
    "x17+ \n",
    "x18+ \n",
    "x19+ \n",
    "x20+ \n",
    "x21+ \n",
    "x22+ \n",
    "x23+ \n",
    "x24+ \n",
    "x25+ \n",
    "x26+ \n",
    "x27+ \n",
    "x28+ \n",
    "x29+ \n",
    "x30+ \n",
    "x31+ \n",
    "x32+ \n",
    "x33+ \n",
    "x34+ \n",
    "x35+ \n",
    "x36+ \n",
    "x37+ \n",
    "x38+ \n",
    "x39+ \n",
    "x40+ \n",
    "x41+ \n",
    "x42+ \n",
    "x43+ \n",
    "x44+ \n",
    "x45+ \n",
    "x46+ \n",
    "x47+ \n",
    "x48+ \n",
    "x49+ \n",
    "x50+ \n",
    "x51+ \n",
    "x52+ \n",
    "x53+ \n",
    "x54+ \n",
    "x55+ \n",
    "x56+ \n",
    "x57+ \n",
    "x58+ \n",
    "x59+ \n",
    "x60)\n",
    "linearRegressor = lm(fm, train)\n",
    "\n",
    "# Prediction\n",
    "ypredicted_test = GLM.predict(linearRegressor, test);\n",
    "ypredicted_train = GLM.predict(linearRegressor, train);\n",
    "\n",
    "prediction_class_train = [if x < 0.5 0 else 1 end for x in ypredicted_train];\n",
    "prediction_class_test = [if x < 0.5 0 else 1 end for x in ypredicted_test];"
   ]
  },
  {
   "cell_type": "markdown",
   "id": "53ae125d",
   "metadata": {},
   "source": [
    "# Train\n"
   ]
  },
  {
   "cell_type": "code",
   "execution_count": 99,
   "id": "15a4072f",
   "metadata": {},
   "outputs": [
    {
     "data": {
      "text/plain": [
       "Dict{Int64, Int64} with 2 entries:\n",
       "  0 => 196\n",
       "  1 => 222"
      ]
     },
     "execution_count": 99,
     "metadata": {},
     "output_type": "execute_result"
    }
   ],
   "source": [
    "countmap(prediction_class_train)"
   ]
  },
  {
   "cell_type": "code",
   "execution_count": 100,
   "id": "1159e256",
   "metadata": {},
   "outputs": [],
   "source": [
    "prediccion = [train.x61 prediction_class_train]\n",
    "prediccion = DataFrame(prediccion, [:Real, :Prediccion]);"
   ]
  },
  {
   "cell_type": "code",
   "execution_count": 101,
   "id": "2a0ddf3c",
   "metadata": {},
   "outputs": [
    {
     "data": {
      "text/plain": [
       "ROC curve with 3 points, of which 2 on the convex hull"
      ]
     },
     "execution_count": 101,
     "metadata": {},
     "output_type": "execute_result"
    }
   ],
   "source": [
    "confusion_matrix = ROCAnalysis.roc(prediccion.Real, prediccion.Prediccion)"
   ]
  },
  {
   "cell_type": "code",
   "execution_count": 102,
   "id": "b67eb277",
   "metadata": {},
   "outputs": [
    {
     "name": "stdout",
     "output_type": "stream",
     "text": [
      "Accuracy: 92.58%\n"
     ]
    }
   ],
   "source": [
    "auc = ROCAnalysis.AUC(confusion_matrix)\n",
    "@printf \"Accuracy: %.2f%%\\n\" mean(prediction_class_train .== train[:, 61]) * 100"
   ]
  },
  {
   "cell_type": "markdown",
   "id": "74f82d3b",
   "metadata": {},
   "source": [
    "# Test"
   ]
  },
  {
   "cell_type": "code",
   "execution_count": 103,
   "id": "4ba2539f",
   "metadata": {},
   "outputs": [
    {
     "data": {
      "text/plain": [
       "Dict{Int64, Int64} with 2 entries:\n",
       "  0 => 79\n",
       "  1 => 85"
      ]
     },
     "execution_count": 103,
     "metadata": {},
     "output_type": "execute_result"
    }
   ],
   "source": [
    "countmap(prediction_class_test)"
   ]
  },
  {
   "cell_type": "code",
   "execution_count": 104,
   "id": "ae242265",
   "metadata": {},
   "outputs": [],
   "source": [
    "prediccion = [test.x61 prediction_class_test]\n",
    "prediccion = DataFrame(prediccion, [:Real, :Prediccion]);"
   ]
  },
  {
   "cell_type": "code",
   "execution_count": 105,
   "id": "d36ad0c0",
   "metadata": {},
   "outputs": [
    {
     "data": {
      "text/plain": [
       "ROC curve with 3 points, of which 2 on the convex hull"
      ]
     },
     "execution_count": 105,
     "metadata": {},
     "output_type": "execute_result"
    }
   ],
   "source": [
    "confusion_matrix = ROCAnalysis.roc(prediccion.Real, prediccion.Prediccion)"
   ]
  },
  {
   "cell_type": "code",
   "execution_count": 106,
   "id": "526aa22d",
   "metadata": {},
   "outputs": [
    {
     "name": "stdout",
     "output_type": "stream",
     "text": [
      "Accuracy: 87.20%\n"
     ]
    }
   ],
   "source": [
    "auc = ROCAnalysis.AUC(confusion_matrix)\n",
    "@printf \"Accuracy: %.2f%%\\n\" mean(prediccion.Prediccion .== test[:, 61]) * 100"
   ]
  },
  {
   "cell_type": "markdown",
   "id": "323096f2",
   "metadata": {},
   "source": [
    "### SVM"
   ]
  },
  {
   "cell_type": "code",
   "execution_count": 107,
   "id": "ac19806b",
   "metadata": {},
   "outputs": [],
   "source": [
    "y_train = ifelse.(train[:, 61] .== 1, \"R\", \"M\");"
   ]
  },
  {
   "cell_type": "code",
   "execution_count": 108,
   "id": "3def2ea7",
   "metadata": {},
   "outputs": [],
   "source": [
    "x_train = Array(train[:, 1:60])';"
   ]
  },
  {
   "cell_type": "code",
   "execution_count": 109,
   "id": "8642cf36",
   "metadata": {
    "scrolled": true
   },
   "outputs": [
    {
     "data": {
      "text/plain": [
       "60×418 adjoint(::Matrix{Float64}) with eltype Float64:\n",
       " 0.0094  0.0201  0.0132072   …  0.1371  0.0125442   0.0094  0.0283\n",
       " 0.0611  0.0165  0.00221636     0.1226  0.00750454  0.0611  0.0599\n",
       " 0.1136  0.0344  0.00726653     0.1385  0.0172408   0.1136  0.0656\n",
       " 0.1203  0.033   0.0386787      0.1484  0.0153969   0.1203  0.0229\n",
       " 0.0403  0.0397  0.053992       0.1776  0.0457858   0.0403  0.0839\n",
       " 0.1227  0.0443  0.0840582   …  0.1428  0.067004    0.1227  0.1673\n",
       " 0.2495  0.0684  0.0972445      0.1773  0.0664957   0.2495  0.1154\n",
       " 0.4566  0.0903  0.0916962      0.2161  0.0216393   0.4566  0.1098\n",
       " 0.6587  0.1739  0.166334       0.163   0.0851932   0.6587  0.137\n",
       " 0.5079  0.2571  0.165914       0.2067  0.0906845   0.5079  0.1767\n",
       " 0.335   0.2931  0.155024    …  0.4257  0.142606    0.335   0.1995\n",
       " 0.0834  0.3108  0.110497       0.5484  0.153139    0.0834  0.2869\n",
       " 0.3004  0.3603  0.101724       0.7131  0.21893     0.3004  0.3275\n",
       " ⋮                           ⋱          ⋮                   \n",
       " 0.1129  0.0233  0.012232       0.0531  0.030081    0.1129  0.0244\n",
       " 0.0201  0.0152  0.0106882      0.0272  0.0226961   0.0201  0.0179\n",
       " 0.048   0.0125  0.00642317  …  0.0171  0.0118368   0.048   0.0109\n",
       " 0.0234  0.0054  0.00610075     0.0118  0.00451658  0.0234  0.0147\n",
       " 0.0175  0.0057  0.00588214     0.0129  0.00294572  0.0175  0.017\n",
       " 0.0352  0.0137  0.00498862     0.0344  0.00294519  0.0352  0.0158\n",
       " 0.0158  0.0109  0.00462284     0.0065  0.00354065  0.0158  0.0046\n",
       " 0.0326  0.0035  0.00362965  …  0.0067  0.00482914  0.0326  0.0073\n",
       " 0.0201  0.0056  0.00381711     0.0022  0.0122262   0.0201  0.0054\n",
       " 0.0168  0.0105  0.00244867     0.0079  0.0128925   0.0168  0.0033\n",
       " 0.0245  0.0082  0.00259012     0.0146  0.00323717  0.0245  0.0045\n",
       " 0.0154  0.0036  0.00218023     0.0051  0.00590454  0.0154  0.0079"
      ]
     },
     "execution_count": 109,
     "metadata": {},
     "output_type": "execute_result"
    }
   ],
   "source": [
    "x_train"
   ]
  },
  {
   "cell_type": "code",
   "execution_count": 110,
   "id": "1fcfb73a",
   "metadata": {},
   "outputs": [],
   "source": [
    "x_test = Array(test[:, 1:60])';\n",
    "y_test = ifelse.(test[:, 61] .== 1, \"R\", \"M\");"
   ]
  },
  {
   "cell_type": "markdown",
   "id": "9c0245e4",
   "metadata": {},
   "source": [
    "# Test"
   ]
  },
  {
   "cell_type": "code",
   "execution_count": 111,
   "id": "8e248085",
   "metadata": {},
   "outputs": [
    {
     "name": "stdout",
     "output_type": "stream",
     "text": [
      "Accuracy: 70.73%\n"
     ]
    }
   ],
   "source": [
    "using LIBSVM\n",
    "using Printf\n",
    "# Train SVM on half of the data using default parameters. See documentation\n",
    "# of svmtrain for options\n",
    "model = LIBSVM.svmtrain(x_train, y_train)\n",
    "\n",
    "# Test model on the other half of the data.\n",
    "pred, decision_values = LIBSVM.svmpredict(model, x_test);\n",
    "\n",
    "# Compute accuracy\n",
    "@printf \"Accuracy: %.2f%%\\n\" mean(pred .== y_test) * 100\n"
   ]
  },
  {
   "cell_type": "markdown",
   "id": "7e0b2bad",
   "metadata": {},
   "source": [
    "# Train"
   ]
  },
  {
   "cell_type": "code",
   "execution_count": 112,
   "id": "61940c25",
   "metadata": {},
   "outputs": [
    {
     "name": "stdout",
     "output_type": "stream",
     "text": [
      "Accuracy: 80.14%\n"
     ]
    }
   ],
   "source": [
    "pred_train, decision_values_train = LIBSVM.svmpredict(model, x_train);\n",
    "\n",
    "# Compute accuracy\n",
    "@printf \"Accuracy: %.2f%%\\n\" mean(pred_train .== y_train) * 100"
   ]
  },
  {
   "cell_type": "markdown",
   "id": "e7ef0db6",
   "metadata": {},
   "source": [
    "### Árbol de decisión"
   ]
  },
  {
   "cell_type": "code",
   "execution_count": 113,
   "id": "4c6e6eac",
   "metadata": {},
   "outputs": [],
   "source": [
    "x_train = Array(train[:, 1:60]);\n",
    "x_test = Array(test[:, 1:60]);"
   ]
  },
  {
   "cell_type": "code",
   "execution_count": 114,
   "id": "4769a818",
   "metadata": {
    "scrolled": true
   },
   "outputs": [
    {
     "data": {
      "text/plain": [
       "DecisionTreeClassifier\n",
       "max_depth:                10\n",
       "min_samples_leaf:         1\n",
       "min_samples_split:        2\n",
       "min_purity_increase:      0.0\n",
       "pruning_purity_threshold: 1.0\n",
       "n_subfeatures:            0\n",
       "classes:                  [\"M\", \"R\"]\n",
       "root:                     Decision Tree\n",
       "Leaves: 20\n",
       "Depth:  7"
      ]
     },
     "execution_count": 114,
     "metadata": {},
     "output_type": "execute_result"
    }
   ],
   "source": [
    "model = DecisionTreeClassifier(max_depth=10)\n",
    "DecisionTree.fit!(model, x_train, y_train)"
   ]
  },
  {
   "cell_type": "markdown",
   "id": "ce141a4c",
   "metadata": {},
   "source": [
    "# Test"
   ]
  },
  {
   "cell_type": "code",
   "execution_count": 115,
   "id": "9c1cac2f",
   "metadata": {
    "scrolled": true
   },
   "outputs": [
    {
     "name": "stdout",
     "output_type": "stream",
     "text": [
      "Feature 11, Threshold 0.1985422609242542\n",
      "L-> Feature 1, Threshold 0.02968052963537334\n",
      "    L-> Feature 22, Threshold 0.9217883379901757\n",
      "        L-> Feature 28, Threshold 0.95425\n",
      "            L-> R : 131/131\n",
      "            R-> Feature 2, Threshold 0.025599999999999998\n",
      "                L-> R : 5/5\n",
      "                R-> M : 2/2\n",
      "        R-> Feature 11, Threshold 0.11155000000000001\n",
      "            L-> R : 10/10\n",
      "            R-> M : 6/6\n",
      "    R-> Feature 59, Threshold 0.009573631403162603\n",
      "        L-> Feature 35, Threshold 0.2935\n",
      "            L-> Feature 30, Threshold 0.51275\n",
      "                L-> R : 1/1\n",
      "                R-> M : 3/3\n",
      "            R-> R : 13/13\n",
      "        R-> M : 19/19\n",
      "R-> Feature 27, Threshold 0.8147\n",
      "    L-> Feature 45, Threshold 0.23596928422776742\n",
      "        L-> Feature 37, Threshold 0.47050000000000003\n",
      "            L-> Feature 52, Threshold 0.011715396982245815\n",
      "                L-> \n",
      "                R-> \n",
      "            R-> R : 26/26\n",
      "        R-> M : 30/30\n",
      "    R-> Feature 8, Threshold 0.07166262409301\n",
      "        L-> Feature 44, Threshold 0.2548\n",
      "            L-> R : 2/2\n",
      "            R-> M : 5/5\n",
      "        R-> M : 94/94\n",
      "Accuracy: 97.56%\n"
     ]
    }
   ],
   "source": [
    "print_tree(model, 5)\n",
    "pred_test = DecisionTree.predict(model, x_test);\n",
    "@printf \"Accuracy: %.2f%%\\n\" mean(pred_test .== y_test) * 100"
   ]
  },
  {
   "cell_type": "markdown",
   "id": "f4afb69a",
   "metadata": {},
   "source": [
    "# Train"
   ]
  },
  {
   "cell_type": "code",
   "execution_count": 116,
   "id": "69be67d8",
   "metadata": {},
   "outputs": [
    {
     "name": "stdout",
     "output_type": "stream",
     "text": [
      "Feature 11, Threshold 0.1985422609242542\n",
      "L-> Feature 1, Threshold 0.02968052963537334\n",
      "    L-> Feature 22, Threshold 0.9217883379901757\n",
      "        L-> Feature 28, Threshold 0.95425\n",
      "            L-> R : 131/131\n",
      "            R-> Feature 2, Threshold 0.025599999999999998\n",
      "                L-> R : 5/5\n",
      "                R-> M : 2/2\n",
      "        R-> Feature 11, Threshold 0.11155000000000001\n",
      "            L-> R : 10/10\n",
      "            R-> M : 6/6\n",
      "    R-> Feature 59, Threshold 0.009573631403162603\n",
      "        L-> Feature 35, Threshold 0.2935\n",
      "            L-> Feature 30, Threshold 0.51275\n",
      "                L-> R : 1/1\n",
      "                R-> M : 3/3\n",
      "            R-> R : 13/13\n",
      "        R-> M : 19/19\n",
      "R-> Feature 27, Threshold 0.8147\n",
      "    L-> Feature 45, Threshold 0.23596928422776742\n",
      "        L-> Feature 37, Threshold 0.47050000000000003\n",
      "            L-> Feature 52, Threshold 0.011715396982245815\n",
      "                L-> \n",
      "                R-> \n",
      "            R-> R : 26/26\n",
      "        R-> M : 30/30\n",
      "    R-> Feature 8, Threshold 0.07166262409301\n",
      "        L-> Feature 44, Threshold 0.2548\n",
      "            L-> R : 2/2\n",
      "            R-> M : 5/5\n",
      "        R-> M : 94/94\n",
      "Accuracy: 100.00%\n"
     ]
    }
   ],
   "source": [
    "print_tree(model, 5)\n",
    "pred_train = DecisionTree.predict(model, x_train);\n",
    "@printf \"Accuracy: %.2f%%\\n\" mean(pred_train .== y_train) * 100"
   ]
  },
  {
   "cell_type": "markdown",
   "id": "9d15cac1",
   "metadata": {},
   "source": [
    "### KNN"
   ]
  },
  {
   "cell_type": "code",
   "execution_count": 117,
   "id": "6d65aa8f",
   "metadata": {},
   "outputs": [],
   "source": [
    "train2 = [x_train y_train];\n",
    "train2 = DataFrame(train2);"
   ]
  },
  {
   "cell_type": "code",
   "execution_count": 118,
   "id": "70fcdbbf",
   "metadata": {},
   "outputs": [
    {
     "data": {
      "text/plain": [
       "([36, 34, 31], [10.810575981834017, 10.858519888052395, 10.887991530937814])"
      ]
     },
     "execution_count": 118,
     "metadata": {},
     "output_type": "execute_result"
    }
   ],
   "source": [
    "# Pkg.add(\"KNN\")\n",
    "using NearestNeighbors\n",
    "\n",
    "tree = KDTree(x_train, leafsize =10)\n",
    "idxs, dists = knn(tree, train[:, 61], 3, true)"
   ]
  },
  {
   "cell_type": "code",
   "execution_count": 119,
   "id": "1b55b9d4",
   "metadata": {},
   "outputs": [
    {
     "ename": "LoadError",
     "evalue": "UndefVarError: predict not defined",
     "output_type": "error",
     "traceback": [
      "UndefVarError: predict not defined",
      "",
      "Stacktrace:",
      " [1] getproperty(x::Module, f::Symbol)",
      "   @ Base .\\Base.jl:35",
      " [2] top-level scope",
      "   @ In[119]:1",
      " [3] eval",
      "   @ .\\boot.jl:373 [inlined]",
      " [4] include_string(mapexpr::typeof(REPL.softscope), mod::Module, code::String, filename::String)",
      "   @ Base .\\loading.jl:1196"
     ]
    }
   ],
   "source": [
    "NearestNeighbors.predict(tree)\n"
   ]
  },
  {
   "cell_type": "markdown",
   "id": "d9205671",
   "metadata": {},
   "source": [
    "# Select the algorithm with the highest performance measure.\n",
    "# Report the performance on the test data\n"
   ]
  },
  {
   "cell_type": "markdown",
   "id": "3d4389ea",
   "metadata": {},
   "source": [
    "# --> Regresión logística\n",
    "train 100\n",
    "test 94.25%\n",
    "# --> Regresión lineal\n",
    "train 94.12%\n",
    "test 90.23%\n",
    "# --> SVM\n",
    "train 74.02%\n",
    "test 74.71%\n",
    "# --> Árbol de decisión\n",
    "test 91.38%\n",
    "train 100.00%\n",
    "# --> KNN\n",
    "El kg.add(\"kNN\") no existe."
   ]
  },
  {
   "cell_type": "code",
   "execution_count": null,
   "id": "ce5a2220",
   "metadata": {},
   "outputs": [],
   "source": []
  }
 ],
 "metadata": {
  "kernelspec": {
   "display_name": "Julia 1.7.2",
   "language": "julia",
   "name": "julia-1.7"
  },
  "language_info": {
   "file_extension": ".jl",
   "mimetype": "application/julia",
   "name": "julia",
   "version": "1.7.2"
  }
 },
 "nbformat": 4,
 "nbformat_minor": 5
}
